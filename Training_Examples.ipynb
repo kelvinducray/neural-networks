{
 "cells": [
  {
   "cell_type": "markdown",
   "source": [
    "# Import necessary libraries"
   ],
   "metadata": {}
  },
  {
   "cell_type": "code",
   "execution_count": 1,
   "source": [
    "# Formatting\n",
    "%load_ext blackcellmagic\n",
    "\n",
    "# Tensorboard for metric tracking during training\n",
    "%load_ext tensorboard\n",
    "\n",
    "# PyTorch + PyTorch Lightning stuff\n",
    "import torch\n",
    "from pytorch_lightning import Trainer\n",
    "\n",
    "# Neural network visualisations\n",
    "from torchviz import make_dot\n",
    "from torchviz.dot import resize_graph\n",
    "\n",
    "# Settings\n",
    "from neural_networks.config import FullyConnectedSettings\n",
    "\n",
    "# Data modules\n",
    "from neural_networks.data_loaders.mnist_module import MNISTDataModule\n",
    "\n",
    "# Models\n",
    "# from neural_networks.models.fully_connected import init_fully_connected\n",
    "\n",
    "# Pytorch Lightning modules \n",
    "from neural_networks.pl_modules.fully_connected import FullyConnectedModule"
   ],
   "outputs": [],
   "metadata": {}
  },
  {
   "cell_type": "markdown",
   "source": [
    "# Initialise settings"
   ],
   "metadata": {}
  },
  {
   "cell_type": "code",
   "execution_count": 2,
   "source": [
    "fc_settings = FullyConnectedSettings()"
   ],
   "outputs": [],
   "metadata": {}
  },
  {
   "cell_type": "markdown",
   "source": [
    "# Simple Fully Connected Network"
   ],
   "metadata": {}
  },
  {
   "cell_type": "markdown",
   "source": [
    "## Network visualisation"
   ],
   "metadata": {}
  },
  {
   "cell_type": "code",
   "execution_count": 3,
   "source": [
    "from torchvision.models import resnet18"
   ],
   "outputs": [],
   "metadata": {}
  },
  {
   "cell_type": "code",
   "execution_count": 4,
   "source": [
    "# model = FullyConnected().eval()\n",
    "\n",
    "# x = torch.zeros(1, 28, 28, dtype=torch.float, requires_grad=False)\n",
    "# out = model(x)\n",
    "\n",
    "# dot = make_dot(out, params=dict(model.named_parameters()))\n",
    "# # resize_graph(dot, size_per_element=0.15, min_size=12)"
   ],
   "outputs": [],
   "metadata": {}
  },
  {
   "cell_type": "markdown",
   "source": [
    "## Initalise data module"
   ],
   "metadata": {}
  },
  {
   "cell_type": "code",
   "execution_count": 5,
   "source": [
    "mnist_data_module = MNISTDataModule(fc_settings)"
   ],
   "outputs": [],
   "metadata": {}
  },
  {
   "cell_type": "markdown",
   "source": [
    "## Model training"
   ],
   "metadata": {}
  },
  {
   "cell_type": "code",
   "execution_count": null,
   "source": [
    "module = FullyConnectedModule()\n",
    "trainer = Trainer()\n",
    "trainer.fit(module, mnist_data_module)"
   ],
   "outputs": [
    {
     "output_type": "stream",
     "name": "stderr",
     "text": [
      "GPU available: False, used: False\n",
      "TPU available: False, using: 0 TPU cores\n",
      "IPU available: False, using: 0 IPUs\n",
      "/Users/kelvinducray/Library/Caches/pypoetry/virtualenvs/neural-networks-uLea6rf3-py3.9/lib/python3.9/site-packages/pytorch_lightning/trainer/configuration_validator.py:99: UserWarning: you passed in a val_dataloader but have no validation_step. Skipping val loop\n",
      "  rank_zero_warn(f\"you passed in a {loader_name} but have no {step_name}. Skipping {stage} loop\")\n",
      "/Users/kelvinducray/Library/Caches/pypoetry/virtualenvs/neural-networks-uLea6rf3-py3.9/lib/python3.9/site-packages/torchvision/datasets/mnist.py:498: UserWarning: The given NumPy array is not writeable, and PyTorch does not support non-writeable tensors. This means you can write to the underlying (supposedly non-writeable) NumPy array using the tensor. You may want to copy the array to protect its data or make it writeable before converting it to a tensor. This type of warning will be suppressed for the rest of this program. (Triggered internally at  ../torch/csrc/utils/tensor_numpy.cpp:180.)\n",
      "  return torch.from_numpy(parsed.astype(m[2], copy=False)).view(*s)\n",
      "\n",
      "  | Name      | Type             | Params\n",
      "-----------------------------------------------\n",
      "0 | flatten   | Flatten          | 0     \n",
      "1 | network   | Sequential       | 669 K \n",
      "2 | criterion | CrossEntropyLoss | 0     \n",
      "-----------------------------------------------\n",
      "669 K     Trainable params\n",
      "0         Non-trainable params\n",
      "669 K     Total params\n",
      "2.679     Total estimated model params size (MB)\n",
      "/Users/kelvinducray/Library/Caches/pypoetry/virtualenvs/neural-networks-uLea6rf3-py3.9/lib/python3.9/site-packages/pytorch_lightning/trainer/data_loading.py:105: UserWarning: The dataloader, train dataloader, does not have many workers which may be a bottleneck. Consider increasing the value of the `num_workers` argument` (try 4 which is the number of cpus on this machine) in the `DataLoader` init to improve performance.\n",
      "  rank_zero_warn(\n"
     ]
    },
    {
     "output_type": "stream",
     "name": "stdout",
     "text": [
      "Epoch 0:  50%|█████     | 431/860 [00:19<00:18, 22.65it/s, loss=2.28, v_num=5]"
     ]
    }
   ],
   "metadata": {}
  },
  {
   "cell_type": "code",
   "execution_count": null,
   "source": [
    "# %tensorboard --logdir lightning_logs/"
   ],
   "outputs": [
    {
     "output_type": "display_data",
     "data": {
      "text/html": [
       "\n",
       "      <iframe id=\"tensorboard-frame-3e35931d169a4d0a\" width=\"100%\" height=\"800\" frameborder=\"0\">\n",
       "      </iframe>\n",
       "      <script>\n",
       "        (function() {\n",
       "          const frame = document.getElementById(\"tensorboard-frame-3e35931d169a4d0a\");\n",
       "          const url = new URL(\"/\", window.location);\n",
       "          const port = 6006;\n",
       "          if (port) {\n",
       "            url.port = port;\n",
       "          }\n",
       "          frame.src = url;\n",
       "        })();\n",
       "      </script>\n",
       "    "
      ],
      "text/plain": [
       "<IPython.core.display.HTML object>"
      ]
     },
     "metadata": {}
    }
   ],
   "metadata": {}
  },
  {
   "cell_type": "markdown",
   "source": [
    "## Model evaluation"
   ],
   "metadata": {}
  },
  {
   "cell_type": "markdown",
   "source": [],
   "metadata": {}
  }
 ],
 "metadata": {
  "orig_nbformat": 4,
  "language_info": {
   "name": "python",
   "version": "3.9.7",
   "mimetype": "text/x-python",
   "codemirror_mode": {
    "name": "ipython",
    "version": 3
   },
   "pygments_lexer": "ipython3",
   "nbconvert_exporter": "python",
   "file_extension": ".py"
  },
  "kernelspec": {
   "name": "python3",
   "display_name": "Python 3.9.7 64-bit ('neural-networks-uLea6rf3-py3.9': poetry)"
  },
  "interpreter": {
   "hash": "c071e111b7334bf8d5e71c869956675a5c822eaab6742fd54b2210cc2287f90a"
  }
 },
 "nbformat": 4,
 "nbformat_minor": 2
}