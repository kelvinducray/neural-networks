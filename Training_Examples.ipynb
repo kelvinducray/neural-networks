{
 "cells": [
  {
   "cell_type": "markdown",
   "source": [
    "# Import necessary libraries"
   ],
   "metadata": {}
  },
  {
   "cell_type": "code",
   "execution_count": 16,
   "source": [
    "# Formatting\n",
    "%load_ext blackcellmagic\n",
    "\n",
    "# PyTorch + PyTorch Lightning stuff\n",
    "import torch\n",
    "from pytorch_lightning import Trainer\n",
    "\n",
    "# Neural network visualisations\n",
    "from torchviz import make_dot\n",
    "from torchviz.dot import resize_graph\n",
    "\n",
    "# Project scripts\n",
    "from neural_networks.data_loaders.mnist_module import MNISTDataModule\n",
    "\n",
    "from neural_networks.config import FullyConnectedSettings\n",
    "\n",
    "from neural_networks.models.fully_connected import FullyConnected\n",
    "\n",
    "from neural_networks.pl_modules.fully_connected import FullyConnectedModule"
   ],
   "outputs": [
    {
     "output_type": "stream",
     "name": "stdout",
     "text": [
      "The blackcellmagic extension is already loaded. To reload it, use:\n",
      "  %reload_ext blackcellmagic\n"
     ]
    }
   ],
   "metadata": {}
  },
  {
   "cell_type": "markdown",
   "source": [
    "# Simple Fully Connected Network"
   ],
   "metadata": {}
  },
  {
   "cell_type": "markdown",
   "source": [
    "## Network visualisation"
   ],
   "metadata": {}
  },
  {
   "cell_type": "code",
   "execution_count": 17,
   "source": [
    "from torchvision.models import resnet18"
   ],
   "outputs": [],
   "metadata": {}
  },
  {
   "cell_type": "code",
   "execution_count": 18,
   "source": [
    "model = FullyConnected().eval()\n",
    "\n",
    "x = torch.zeros(1, 28, 28, dtype=torch.float, requires_grad=False)\n",
    "out = model(x)\n",
    "\n",
    "dot = make_dot(out, params=dict(model.named_parameters()))\n",
    "# resize_graph(dot, size_per_element=0.15, min_size=12)"
   ],
   "outputs": [],
   "metadata": {}
  },
  {
   "cell_type": "markdown",
   "source": [
    "## Model training"
   ],
   "metadata": {}
  },
  {
   "cell_type": "code",
   "execution_count": 19,
   "source": [
    "module = FullyConnectedModule()\n",
    "trainer = Trainer()\n",
    "trainer.fit(model, train_loader)"
   ],
   "outputs": [
    {
     "output_type": "stream",
     "name": "stderr",
     "text": [
      "GPU available: False, used: False\n",
      "TPU available: False, using: 0 TPU cores\n",
      "IPU available: False, using: 0 IPUs\n"
     ]
    },
    {
     "output_type": "error",
     "ename": "NameError",
     "evalue": "name 'train_loader' is not defined",
     "traceback": [
      "\u001b[0;31m---------------------------------------------------------------------------\u001b[0m",
      "\u001b[0;31mNameError\u001b[0m                                 Traceback (most recent call last)",
      "\u001b[0;32m/var/folders/x2/qg20fnjx5f319gjxxcqf2_br0000gn/T/ipykernel_6801/1220596864.py\u001b[0m in \u001b[0;36m<module>\u001b[0;34m\u001b[0m\n\u001b[1;32m      1\u001b[0m \u001b[0mmodule\u001b[0m \u001b[0;34m=\u001b[0m \u001b[0mFullyConnectedModule\u001b[0m\u001b[0;34m(\u001b[0m\u001b[0;34m)\u001b[0m\u001b[0;34m\u001b[0m\u001b[0;34m\u001b[0m\u001b[0m\n\u001b[1;32m      2\u001b[0m \u001b[0mtrainer\u001b[0m \u001b[0;34m=\u001b[0m \u001b[0mTrainer\u001b[0m\u001b[0;34m(\u001b[0m\u001b[0;34m)\u001b[0m\u001b[0;34m\u001b[0m\u001b[0;34m\u001b[0m\u001b[0m\n\u001b[0;32m----> 3\u001b[0;31m \u001b[0mtrainer\u001b[0m\u001b[0;34m.\u001b[0m\u001b[0mfit\u001b[0m\u001b[0;34m(\u001b[0m\u001b[0mmodel\u001b[0m\u001b[0;34m,\u001b[0m \u001b[0mtrain_loader\u001b[0m\u001b[0;34m)\u001b[0m\u001b[0;34m\u001b[0m\u001b[0;34m\u001b[0m\u001b[0m\n\u001b[0m",
      "\u001b[0;31mNameError\u001b[0m: name 'train_loader' is not defined"
     ]
    }
   ],
   "metadata": {}
  },
  {
   "cell_type": "markdown",
   "source": [
    "## Model evaluation"
   ],
   "metadata": {}
  },
  {
   "cell_type": "markdown",
   "source": [],
   "metadata": {}
  }
 ],
 "metadata": {
  "orig_nbformat": 4,
  "language_info": {
   "name": "python",
   "version": "3.9.7",
   "mimetype": "text/x-python",
   "codemirror_mode": {
    "name": "ipython",
    "version": 3
   },
   "pygments_lexer": "ipython3",
   "nbconvert_exporter": "python",
   "file_extension": ".py"
  },
  "kernelspec": {
   "name": "python3",
   "display_name": "Python 3.9.7 64-bit ('neural-networks-uLea6rf3-py3.9': poetry)"
  },
  "interpreter": {
   "hash": "c071e111b7334bf8d5e71c869956675a5c822eaab6742fd54b2210cc2287f90a"
  }
 },
 "nbformat": 4,
 "nbformat_minor": 2
}